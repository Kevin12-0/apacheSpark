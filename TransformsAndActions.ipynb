{
  "cells": [
    {
      "cell_type": "markdown",
      "metadata": {
        "colab_type": "text",
        "id": "view-in-github"
      },
      "source": [
        "<a href=\"https://colab.research.google.com/github/Kevin12-0/apacheSpark/blob/main/TransformsAndActions.ipynb\" target=\"_parent\"><img src=\"https://colab.research.google.com/assets/colab-badge.svg\" alt=\"Open In Colab\"/></a>"
      ]
    },
    {
      "cell_type": "markdown",
      "metadata": {
        "id": "cfck35u27V8G"
      },
      "source": [
        "# Instalar pyspark"
      ]
    },
    {
      "cell_type": "code",
      "execution_count": null,
      "metadata": {
        "id": "TgaLM1qW49LQ"
      },
      "outputs": [],
      "source": [
        "from pyspark.sql import SparkSession"
      ]
    },
    {
      "cell_type": "code",
      "execution_count": null,
      "metadata": {
        "id": "8QTo7Z7n4_kO"
      },
      "outputs": [],
      "source": [
        "spark = SparkSession.builder.getOrCreate()"
      ]
    },
    {
      "cell_type": "code",
      "execution_count": null,
      "metadata": {
        "id": "c3P4bE2S5C3q"
      },
      "outputs": [],
      "source": [
        "rdd = spark.sparkContext.textFile(\"paises.csv\")"
      ]
    },
    {
      "cell_type": "code",
      "execution_count": null,
      "metadata": {
        "id": "TRZDd7X75SYx"
      },
      "outputs": [],
      "source": [
        "rdd1 = rdd.map(lambda line:line.split(\",\"))"
      ]
    },
    {
      "cell_type": "code",
      "execution_count": null,
      "metadata": {
        "colab": {
          "base_uri": "https://localhost:8080/"
        },
        "id": "xpIuvSZc5cr-",
        "outputId": "ffc3a46f-a4e9-417d-f513-6c11d0d03ecb"
      },
      "outputs": [
        {
          "data": {
            "text/plain": [
              "PythonRDD[7] at RDD at PythonRDD.scala:53"
            ]
          },
          "execution_count": 16,
          "metadata": {},
          "output_type": "execute_result"
        }
      ],
      "source": [
        "rdd1"
      ]
    },
    {
      "cell_type": "code",
      "execution_count": null,
      "metadata": {
        "colab": {
          "base_uri": "https://localhost:8080/"
        },
        "id": "05lBnhrz5iGp",
        "outputId": "73d3123e-c5f6-401a-840b-250fab36401d"
      },
      "outputs": [
        {
          "data": {
            "text/plain": [
              "[['id', 'equipo', 'sigla'],\n",
              " ['1', '30. Februar', 'AUT'],\n",
              " ['2', 'A North American Team', 'MEX'],\n",
              " ['3', 'Acipactli', 'MEX'],\n",
              " ['4', 'Acturus', 'ARG'],\n",
              " ['5', 'Afghanistan', 'AFG'],\n",
              " ['6', 'Akatonbo', 'IRL'],\n",
              " ['7', 'Alain IV', 'SUI'],\n",
              " ['8', 'Albania', 'ALB'],\n",
              " ['9', 'Alcaid', 'POR'],\n",
              " ['10', 'Alcyon-6', 'FRA'],\n",
              " ['11', 'Alcyon-7', 'FRA'],\n",
              " ['12', 'Aldebaran', 'ITA'],\n",
              " ['13', 'Aldebaran II', 'ITA'],\n",
              " ['14', 'Aletta', 'IRL']]"
            ]
          },
          "execution_count": 18,
          "metadata": {},
          "output_type": "execute_result"
        }
      ],
      "source": [
        "rdd1.take(15)"
      ]
    },
    {
      "cell_type": "code",
      "execution_count": null,
      "metadata": {
        "colab": {
          "base_uri": "https://localhost:8080/"
        },
        "id": "UqHWNefa6JQd",
        "outputId": "6e54aa50-86ce-49b2-82d7-e517904c7e24"
      },
      "outputs": [
        {
          "data": {
            "text/plain": [
              "231"
            ]
          },
          "execution_count": 21,
          "metadata": {},
          "output_type": "execute_result"
        }
      ],
      "source": [
        "rdd1.map(lambda x: (x[2])).distinct().count()"
      ]
    },
    {
      "cell_type": "markdown",
      "metadata": {
        "id": "woQzLJ4l7aar"
      },
      "source": [
        "# Cuantos equipos hay"
      ]
    },
    {
      "cell_type": "code",
      "execution_count": null,
      "metadata": {
        "colab": {
          "base_uri": "https://localhost:8080/"
        },
        "id": "nB38t5gm7kP5",
        "outputId": "bf25d5d7-189b-4b73-acf4-9f728029647c"
      },
      "outputs": [
        {
          "data": {
            "text/plain": [
              "[('ARG', 18), ('AFG', 1), ('IRL', 7), ('POR', 21), ('AUS', 23)]"
            ]
          },
          "execution_count": 25,
          "metadata": {},
          "output_type": "execute_result"
        }
      ],
      "source": [
        "rdd1.map(lambda x: (x[2],x[1])).groupByKey().mapValues(len).take(5)"
      ]
    },
    {
      "cell_type": "markdown",
      "metadata": {
        "id": "IEjz8IcE9CqD"
      },
      "source": [
        "## Mostrar todos los valores en lista"
      ]
    },
    {
      "cell_type": "code",
      "execution_count": null,
      "metadata": {
        "colab": {
          "base_uri": "https://localhost:8080/"
        },
        "id": "wY75LKEf9B8H",
        "outputId": "5323c72a-02dd-4289-b7cb-0e704788146f"
      },
      "outputs": [
        {
          "data": {
            "text/plain": [
              "[('ARG',\n",
              "  ['Acturus',\n",
              "   'Antares',\n",
              "   'Arcturus',\n",
              "   'Ardilla',\n",
              "   'Argentina',\n",
              "   'Argentina-1',\n",
              "   'Argentina-2',\n",
              "   'Blue Red',\n",
              "   'Covunco III',\n",
              "   'Cupidon III',\n",
              "   'Djinn',\n",
              "   'Gullvinge',\n",
              "   'Matrero II',\n",
              "   'Mizar',\n",
              "   'Pampero',\n",
              "   'Rampage',\n",
              "   'Tango',\n",
              "   'Wiking']),\n",
              " ('AFG', ['Afghanistan']),\n",
              " ('IRL',\n",
              "  ['Akatonbo',\n",
              "   'Aletta',\n",
              "   'Ireland',\n",
              "   'Ireland-1',\n",
              "   'Ireland-2',\n",
              "   'The Cloud',\n",
              "   'Three Leaves']),\n",
              " ('POR',\n",
              "  ['Alcaid',\n",
              "   'Argus',\n",
              "   'Calcinhas',\n",
              "   'Camelia',\n",
              "   'Ciocca III',\n",
              "   'Espadarte',\n",
              "   'Espardate',\n",
              "   'Faneca',\n",
              "   'Galopin De La Font',\n",
              "   'Grifo III',\n",
              "   'Grifo IV',\n",
              "   'Hannover',\n",
              "   \"Ma'Lindo\",\n",
              "   'Notavel',\n",
              "   'Oxalis',\n",
              "   'Portugal',\n",
              "   'Portugal-1',\n",
              "   'Portugal-2',\n",
              "   'Sjhxa',\n",
              "   'Symphony',\n",
              "   'Vicking']),\n",
              " ('AUS',\n",
              "  ['Amateur Athletic Association',\n",
              "   'Australia',\n",
              "   'Australia-1',\n",
              "   'Australia-2',\n",
              "   'Australia-3',\n",
              "   'Australia/Great Britain',\n",
              "   'Barrenjoey',\n",
              "   'Buraddoo',\n",
              "   'Cambria',\n",
              "   'Diablo',\n",
              "   'Falcon IV',\n",
              "   'Falcon VI',\n",
              "   'Gabbiano',\n",
              "   'Greenoaks Dundee',\n",
              "   'Hornet',\n",
              "   'Maryke',\n",
              "   'Moorina',\n",
              "   'Naiad',\n",
              "   'Pakaria',\n",
              "   'Paula',\n",
              "   'Quando Quando',\n",
              "   'Relampago',\n",
              "   'Vinha'])]"
            ]
          },
          "execution_count": 26,
          "metadata": {},
          "output_type": "execute_result"
        }
      ],
      "source": [
        "rdd1.map(lambda x: (x[2],x[1])).groupByKey().mapValues(list).take(5)"
      ]
    },
    {
      "cell_type": "markdown",
      "metadata": {
        "id": "4CwBmUWS-KT4"
      },
      "source": [
        "## Ubicar datos que coincidad"
      ]
    },
    {
      "cell_type": "code",
      "execution_count": 28,
      "metadata": {
        "colab": {
          "base_uri": "https://localhost:8080/"
        },
        "id": "aLQKe9iZ-kh_",
        "outputId": "2f53cd6c-4f0b-45e2-9110-c56ba2775cee"
      },
      "outputs": [
        {
          "data": {
            "text/plain": [
              "[['4', 'Acturus', 'ARG'],\n",
              " ['37', 'Antares', 'ARG'],\n",
              " ['42', 'Arcturus', 'ARG'],\n",
              " ['43', 'Ardilla', 'ARG'],\n",
              " ['45', 'Argentina', 'ARG'],\n",
              " ['46', 'Argentina-1', 'ARG'],\n",
              " ['47', 'Argentina-2', 'ARG'],\n",
              " ['119', 'Blue Red', 'ARG'],\n",
              " ['238', 'Covunco III', 'ARG'],\n",
              " ['252', 'Cupidon III', 'ARG'],\n",
              " ['288', 'Djinn', 'ARG'],\n",
              " ['436', 'Gullvinge', 'ARG'],\n",
              " ['644', 'Matrero II', 'ARG'],\n",
              " ['672', 'Mizar', 'ARG'],\n",
              " ['774', 'Pampero', 'ARG'],\n",
              " ['843', 'Rampage', 'ARG'],\n",
              " ['1031', 'Tango', 'ARG'],\n",
              " ['1162', 'Wiking', 'ARG']]"
            ]
          },
          "execution_count": 28,
          "metadata": {},
          "output_type": "execute_result"
        }
      ],
      "source": [
        "equipos_argentinos = rdd1.filter(lambda l : \"ARG\" in l)\n",
        "equipos_argentinos.collect()"
      ]
    },
    {
      "cell_type": "markdown",
      "metadata": {
        "id": "6P60KIWHAFZB"
      },
      "source": [
        "## Conteo total de todo el contenido"
      ]
    },
    {
      "cell_type": "code",
      "execution_count": 29,
      "metadata": {
        "colab": {
          "base_uri": "https://localhost:8080/"
        },
        "id": "XTz_G37f_9Pw",
        "outputId": "9b51442f-fdc4-438a-bbac-877b90b85a7d"
      },
      "outputs": [
        {
          "data": {
            "text/plain": [
              "1185"
            ]
          },
          "execution_count": 29,
          "metadata": {},
          "output_type": "execute_result"
        }
      ],
      "source": [
        "rdd1.count()"
      ]
    },
    {
      "cell_type": "markdown",
      "metadata": {
        "id": "rEJ2trkmAOU0"
      },
      "source": [
        "## Saber cuantos valores tiene el RDD"
      ]
    },
    {
      "cell_type": "code",
      "execution_count": 30,
      "metadata": {
        "colab": {
          "base_uri": "https://localhost:8080/"
        },
        "id": "pPjTRab_AE2o",
        "outputId": "406a906f-2ec4-4b32-cfdc-171c2a4472e0"
      },
      "outputs": [
        {
          "data": {
            "text/plain": [
              "1185"
            ]
          },
          "execution_count": 30,
          "metadata": {},
          "output_type": "execute_result"
        }
      ],
      "source": [
        "rdd1.countApprox(20)"
      ]
    }
  ],
  "metadata": {
    "colab": {
      "authorship_tag": "ABX9TyNvPqD8llOpdj2lQv9oyLtW",
      "include_colab_link": true,
      "provenance": []
    },
    "kernelspec": {
      "display_name": "Python 3",
      "name": "python3"
    },
    "language_info": {
      "name": "python"
    }
  },
  "nbformat": 4,
  "nbformat_minor": 0
}

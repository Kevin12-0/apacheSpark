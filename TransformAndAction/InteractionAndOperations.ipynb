{
  "cells": [
    {
      "cell_type": "markdown",
      "metadata": {
        "id": "cfck35u27V8G"
      },
      "source": [
        "# Instalar pyspark"
      ]
    },
    {
      "cell_type": "code",
      "execution_count": null,
      "metadata": {
        "id": "TgaLM1qW49LQ"
      },
      "outputs": [],
      "source": [
        "from pyspark.sql import SparkSession"
      ]
    },
    {
      "cell_type": "code",
      "execution_count": null,
      "metadata": {
        "id": "8QTo7Z7n4_kO"
      },
      "outputs": [],
      "source": [
        "spark = SparkSession.builder.getOrCreate()"
      ]
    },
    {
      "cell_type": "code",
      "execution_count": null,
      "metadata": {
        "id": "c3P4bE2S5C3q"
      },
      "outputs": [],
      "source": [
        "rdd = spark.sparkContext.textFile(\"paises.csv\")"
      ]
    },
    {
      "cell_type": "code",
      "execution_count": null,
      "metadata": {
        "id": "TRZDd7X75SYx"
      },
      "outputs": [],
      "source": [
        "rdd1 = rdd.map(lambda line:line.split(\",\"))"
      ]
    },
    {
      "cell_type": "code",
      "execution_count": null,
      "metadata": {
        "colab": {
          "base_uri": "https://localhost:8080/"
        },
        "id": "xpIuvSZc5cr-",
        "outputId": "ffc3a46f-a4e9-417d-f513-6c11d0d03ecb"
      },
      "outputs": [
        {
          "data": {
            "text/plain": [
              "PythonRDD[7] at RDD at PythonRDD.scala:53"
            ]
          },
          "execution_count": 16,
          "metadata": {},
          "output_type": "execute_result"
        }
      ],
      "source": [
        "rdd1"
      ]
    },
    {
      "cell_type": "code",
      "execution_count": null,
      "metadata": {
        "colab": {
          "base_uri": "https://localhost:8080/"
        },
        "id": "05lBnhrz5iGp",
        "outputId": "73d3123e-c5f6-401a-840b-250fab36401d"
      },
      "outputs": [
        {
          "data": {
            "text/plain": [
              "[['id', 'equipo', 'sigla'],\n",
              " ['1', '30. Februar', 'AUT'],\n",
              " ['2', 'A North American Team', 'MEX'],\n",
              " ['3', 'Acipactli', 'MEX'],\n",
              " ['4', 'Acturus', 'ARG'],\n",
              " ['5', 'Afghanistan', 'AFG'],\n",
              " ['6', 'Akatonbo', 'IRL'],\n",
              " ['7', 'Alain IV', 'SUI'],\n",
              " ['8', 'Albania', 'ALB'],\n",
              " ['9', 'Alcaid', 'POR'],\n",
              " ['10', 'Alcyon-6', 'FRA'],\n",
              " ['11', 'Alcyon-7', 'FRA'],\n",
              " ['12', 'Aldebaran', 'ITA'],\n",
              " ['13', 'Aldebaran II', 'ITA'],\n",
              " ['14', 'Aletta', 'IRL']]"
            ]
          },
          "execution_count": 18,
          "metadata": {},
          "output_type": "execute_result"
        }
      ],
      "source": [
        "rdd1.take(15)"
      ]
    },
    {
      "cell_type": "code",
      "execution_count": null,
      "metadata": {
        "colab": {
          "base_uri": "https://localhost:8080/"
        },
        "id": "UqHWNefa6JQd",
        "outputId": "6e54aa50-86ce-49b2-82d7-e517904c7e24"
      },
      "outputs": [
        {
          "data": {
            "text/plain": [
              "231"
            ]
          },
          "execution_count": 21,
          "metadata": {},
          "output_type": "execute_result"
        }
      ],
      "source": [
        "rdd1.map(lambda x: (x[2])).distinct().count()"
      ]
    },
    {
      "cell_type": "markdown",
      "metadata": {
        "id": "woQzLJ4l7aar"
      },
      "source": [
        "# Cuantos equipos hay"
      ]
    },
    {
      "cell_type": "code",
      "execution_count": null,
      "metadata": {
        "colab": {
          "base_uri": "https://localhost:8080/"
        },
        "id": "nB38t5gm7kP5",
        "outputId": "bf25d5d7-189b-4b73-acf4-9f728029647c"
      },
      "outputs": [
        {
          "data": {
            "text/plain": [
              "[('ARG', 18), ('AFG', 1), ('IRL', 7), ('POR', 21), ('AUS', 23)]"
            ]
          },
          "execution_count": 25,
          "metadata": {},
          "output_type": "execute_result"
        }
      ],
      "source": [
        "rdd1.map(lambda x: (x[2],x[1])).groupByKey().mapValues(len).take(5)"
      ]
    },
    {
      "cell_type": "markdown",
      "metadata": {
        "id": "IEjz8IcE9CqD"
      },
      "source": [
        "## Mostrar todos los valores en lista"
      ]
    },
    {
      "cell_type": "code",
      "execution_count": null,
      "metadata": {
        "colab": {
          "base_uri": "https://localhost:8080/"
        },
        "id": "wY75LKEf9B8H",
        "outputId": "5323c72a-02dd-4289-b7cb-0e704788146f"
      },
      "outputs": [
        {
          "data": {
            "text/plain": [
              "[('ARG',\n",
              "  ['Acturus',\n",
              "   'Antares',\n",
              "   'Arcturus',\n",
              "   'Ardilla',\n",
              "   'Argentina',\n",
              "   'Argentina-1',\n",
              "   'Argentina-2',\n",
              "   'Blue Red',\n",
              "   'Covunco III',\n",
              "   'Cupidon III',\n",
              "   'Djinn',\n",
              "   'Gullvinge',\n",
              "   'Matrero II',\n",
              "   'Mizar',\n",
              "   'Pampero',\n",
              "   'Rampage',\n",
              "   'Tango',\n",
              "   'Wiking']),\n",
              " ('AFG', ['Afghanistan']),\n",
              " ('IRL',\n",
              "  ['Akatonbo',\n",
              "   'Aletta',\n",
              "   'Ireland',\n",
              "   'Ireland-1',\n",
              "   'Ireland-2',\n",
              "   'The Cloud',\n",
              "   'Three Leaves']),\n",
              " ('POR',\n",
              "  ['Alcaid',\n",
              "   'Argus',\n",
              "   'Calcinhas',\n",
              "   'Camelia',\n",
              "   'Ciocca III',\n",
              "   'Espadarte',\n",
              "   'Espardate',\n",
              "   'Faneca',\n",
              "   'Galopin De La Font',\n",
              "   'Grifo III',\n",
              "   'Grifo IV',\n",
              "   'Hannover',\n",
              "   \"Ma'Lindo\",\n",
              "   'Notavel',\n",
              "   'Oxalis',\n",
              "   'Portugal',\n",
              "   'Portugal-1',\n",
              "   'Portugal-2',\n",
              "   'Sjhxa',\n",
              "   'Symphony',\n",
              "   'Vicking']),\n",
              " ('AUS',\n",
              "  ['Amateur Athletic Association',\n",
              "   'Australia',\n",
              "   'Australia-1',\n",
              "   'Australia-2',\n",
              "   'Australia-3',\n",
              "   'Australia/Great Britain',\n",
              "   'Barrenjoey',\n",
              "   'Buraddoo',\n",
              "   'Cambria',\n",
              "   'Diablo',\n",
              "   'Falcon IV',\n",
              "   'Falcon VI',\n",
              "   'Gabbiano',\n",
              "   'Greenoaks Dundee',\n",
              "   'Hornet',\n",
              "   'Maryke',\n",
              "   'Moorina',\n",
              "   'Naiad',\n",
              "   'Pakaria',\n",
              "   'Paula',\n",
              "   'Quando Quando',\n",
              "   'Relampago',\n",
              "   'Vinha'])]"
            ]
          },
          "execution_count": 26,
          "metadata": {},
          "output_type": "execute_result"
        }
      ],
      "source": [
        "rdd1.map(lambda x: (x[2],x[1])).groupByKey().mapValues(list).take(5)"
      ]
    },
    {
      "cell_type": "markdown",
      "metadata": {
        "id": "4CwBmUWS-KT4"
      },
      "source": [
        "## Ubicar datos que coincidad"
      ]
    },
    {
      "cell_type": "code",
      "execution_count": null,
      "metadata": {
        "colab": {
          "base_uri": "https://localhost:8080/"
        },
        "id": "aLQKe9iZ-kh_",
        "outputId": "2f53cd6c-4f0b-45e2-9110-c56ba2775cee"
      },
      "outputs": [
        {
          "data": {
            "text/plain": [
              "[['4', 'Acturus', 'ARG'],\n",
              " ['37', 'Antares', 'ARG'],\n",
              " ['42', 'Arcturus', 'ARG'],\n",
              " ['43', 'Ardilla', 'ARG'],\n",
              " ['45', 'Argentina', 'ARG'],\n",
              " ['46', 'Argentina-1', 'ARG'],\n",
              " ['47', 'Argentina-2', 'ARG'],\n",
              " ['119', 'Blue Red', 'ARG'],\n",
              " ['238', 'Covunco III', 'ARG'],\n",
              " ['252', 'Cupidon III', 'ARG'],\n",
              " ['288', 'Djinn', 'ARG'],\n",
              " ['436', 'Gullvinge', 'ARG'],\n",
              " ['644', 'Matrero II', 'ARG'],\n",
              " ['672', 'Mizar', 'ARG'],\n",
              " ['774', 'Pampero', 'ARG'],\n",
              " ['843', 'Rampage', 'ARG'],\n",
              " ['1031', 'Tango', 'ARG'],\n",
              " ['1162', 'Wiking', 'ARG']]"
            ]
          },
          "execution_count": 28,
          "metadata": {},
          "output_type": "execute_result"
        }
      ],
      "source": [
        "equipos_argentinos = rdd1.filter(lambda l : \"ARG\" in l)\n",
        "equipos_argentinos.collect()"
      ]
    },
    {
      "cell_type": "markdown",
      "metadata": {
        "id": "6P60KIWHAFZB"
      },
      "source": [
        "## Conteo total de todo el contenido"
      ]
    },
    {
      "cell_type": "code",
      "execution_count": null,
      "metadata": {
        "colab": {
          "base_uri": "https://localhost:8080/"
        },
        "id": "XTz_G37f_9Pw",
        "outputId": "9b51442f-fdc4-438a-bbac-877b90b85a7d"
      },
      "outputs": [
        {
          "data": {
            "text/plain": [
              "1185"
            ]
          },
          "execution_count": 29,
          "metadata": {},
          "output_type": "execute_result"
        }
      ],
      "source": [
        "rdd1.count()"
      ]
    },
    {
      "cell_type": "markdown",
      "metadata": {
        "id": "rEJ2trkmAOU0"
      },
      "source": [
        "## Saber cuantos valores tiene el RDD"
      ]
    },
    {
      "cell_type": "code",
      "execution_count": null,
      "metadata": {
        "colab": {
          "base_uri": "https://localhost:8080/"
        },
        "id": "pPjTRab_AE2o",
        "outputId": "406a906f-2ec4-4b32-cfdc-171c2a4472e0"
      },
      "outputs": [
        {
          "data": {
            "text/plain": [
              "1185"
            ]
          },
          "execution_count": 30,
          "metadata": {},
          "output_type": "execute_result"
        }
      ],
      "source": [
        "rdd1.countApprox(20)"
      ]
    },
    {
      "cell_type": "markdown",
      "metadata": {
        "id": "iEGuj1ahGGjD"
      },
      "source": [
        "## Crear nnuevo RDD"
      ]
    },
    {
      "cell_type": "code",
      "execution_count": null,
      "metadata": {
        "id": "M1h2VawiGEx4"
      },
      "outputs": [],
      "source": [
        "deportistaOlimpico = spark.sparkContext.textFile(\"files/deportista.csv\").map(lambda line:line.split(\",\"))"
      ]
    },
    {
      "cell_type": "code",
      "execution_count": null,
      "metadata": {
        "id": "u8dDFPU0HEn7"
      },
      "outputs": [],
      "source": [
        "deportistaOlimpico2 = spark.sparkContext.textFile(\"files/deportista.csv\").map(lambda line:line.split(\",\"))"
      ]
    },
    {
      "cell_type": "markdown",
      "metadata": {
        "id": "r2jdEcprHH1H"
      },
      "source": [
        "## Unimos RDD"
      ]
    },
    {
      "cell_type": "code",
      "execution_count": null,
      "metadata": {
        "id": "b0OWdPYjHKbS"
      },
      "outputs": [],
      "source": [
        "deportistaOlimimpicoRDD = deportistaOlimpico.union(deportistaOlimpico2)"
      ]
    },
    {
      "cell_type": "markdown",
      "metadata": {
        "id": "PfirldJzJPgu"
      },
      "source": [
        "# Conteo de datos"
      ]
    },
    {
      "cell_type": "code",
      "execution_count": 34,
      "metadata": {
        "colab": {
          "base_uri": "https://localhost:8080/"
        },
        "id": "4cDBEogtJRBz",
        "outputId": "573d3633-86ed-4620-a224-213a96faadbb"
      },
      "outputs": [
        {
          "data": {
            "text/plain": [
              "135574"
            ]
          },
          "execution_count": 34,
          "metadata": {},
          "output_type": "execute_result"
        }
      ],
      "source": [
        "deportistaOlimimpicoRDD.count()"
      ]
    },
    {
      "cell_type": "markdown",
      "metadata": {
        "id": "pagwjN_sJiYC"
      },
      "source": [
        "## Ver la ultima y primera linea de un archivo"
      ]
    },
    {
      "cell_type": "code",
      "execution_count": 36,
      "metadata": {
        "colab": {
          "base_uri": "https://localhost:8080/"
        },
        "id": "3MbcwHdFJl6V",
        "outputId": "ac0417b1-04f5-46b7-901c-30690e6d5469"
      },
      "outputs": [
        {
          "data": {
            "text/plain": [
              "[['id', 'equipo', 'sigla'], ['999', 'Stella-2', 'NOR']]"
            ]
          },
          "execution_count": 36,
          "metadata": {},
          "output_type": "execute_result"
        }
      ],
      "source": [
        "rdd1.top(2)"
      ]
    },
    {
      "cell_type": "code",
      "execution_count": 37,
      "metadata": {
        "colab": {
          "base_uri": "https://localhost:8080/"
        },
        "id": "gFmQeDR7JtiJ",
        "outputId": "9a76f768-9ebc-4b8a-ec0b-08aa9bf118a7"
      },
      "outputs": [
        {
          "data": {
            "text/plain": [
              "[['deportista_id', 'nombre', 'genero', 'edad', 'altura', 'peso', 'equipo_id'],\n",
              " ['deportista_id', 'nombre', 'genero', 'edad', 'altura', 'peso', 'equipo_id']]"
            ]
          },
          "execution_count": 37,
          "metadata": {},
          "output_type": "execute_result"
        }
      ],
      "source": [
        "deportistaOlimimpicoRDD.top(2)"
      ]
    },
    {
      "cell_type": "markdown",
      "metadata": {
        "id": "xU2PLAGYKIoU"
      },
      "source": [
        "## Union de datos"
      ]
    },
    {
      "cell_type": "code",
      "execution_count": 38,
      "metadata": {
        "colab": {
          "base_uri": "https://localhost:8080/"
        },
        "id": "_DeW7eprKK59",
        "outputId": "a516b4a4-1050-4d46-c0b0-2852eb3c91a7"
      },
      "outputs": [
        {
          "data": {
            "text/plain": [
              "[('278', (['4', 'Edgar Lindenau Aabye', '1', '34', '0', '0'], 'SWE')),\n",
              " ('278', (['4', 'Edgar Lindenau Aabye', '1', '34', '0', '0'], 'SWE')),\n",
              " ('982', (['51', 'Nstor Abad Sanjun', '1', '23', '167', '64'], 'ESP')),\n",
              " ('982', (['55', 'Antonio Abadia Beci', '1', '26', '170', '65'], 'ESP')),\n",
              " ('982', (['63', 'Jos Luis Abajo Gmez', '1', '30', '194', '87'], 'ESP')),\n",
              " ('982', (['69', 'Tamara Abalde Daz', '2', '19', '185', '72'], 'ESP'))]"
            ]
          },
          "execution_count": 38,
          "metadata": {},
          "output_type": "execute_result"
        }
      ],
      "source": [
        "deportistaOlimimpicoRDD.map(lambda l: [l[-1],l[:-1]]).join(rdd1.map(lambda x: [x[0],x[2]])).take(6)"
      ]
    },
    {
      "cell_type": "markdown",
      "metadata": {
        "id": "xtd9vKUMLKgD"
      },
      "source": [
        "## Elegir muestras aleatorias"
      ]
    },
    {
      "cell_type": "code",
      "execution_count": 39,
      "metadata": {
        "colab": {
          "base_uri": "https://localhost:8080/"
        },
        "id": "ZHiGD5xhLOk_",
        "outputId": "f07f1116-f29d-48ab-86bb-2e17cec18272"
      },
      "outputs": [
        {
          "data": {
            "text/plain": [
              "[('514', (['52460', 'Megumi Iseda', '2', '29', '157', '56'], 'JPN')),\n",
              " ('399', (['65227', 'Kurt Kuschela', '1', '23', '182', '86'], 'GER')),\n",
              " ('434', (['33915', 'Serigne Fall', '1', '0', '0', '0'], 'GUI')),\n",
              " ('259', (['12569', 'Frantiek Boko', '1', '27', '164', '59'], 'TCH')),\n",
              " ('255', (['52259', 'Kyriakos Ioannou', '1', '20', '196', '74'], 'CYP')),\n",
              " ('138',\n",
              "  (['26562', 'Leondio Pasquali de Pra Filho', '1', '27', '198', '75'], 'BRA'))]"
            ]
          },
          "execution_count": 39,
          "metadata": {},
          "output_type": "execute_result"
        }
      ],
      "source": [
        "deportistaOlimimpicoRDD.map(lambda l: [l[-1],l[:-1]]).join(rdd1.map(lambda x: [x[0],x[2]])).takeSample(False,6,25)"
      ]
    },
    {
      "cell_type": "markdown",
      "metadata": {
        "id": "KekPPlFwLmbJ"
      },
      "source": [
        "## CARGAR NUEVO RDD"
      ]
    },
    {
      "cell_type": "code",
      "execution_count": 40,
      "metadata": {
        "id": "CtjCj-JwLlWP"
      },
      "outputs": [],
      "source": [
        "resultado = spark.sparkContext.textFile(\"files/resultados.csv\").map(lambda line:line.split(\",\"))"
      ]
    },
    {
      "cell_type": "code",
      "execution_count": 41,
      "metadata": {
        "id": "ogjEYUYoLjiV"
      },
      "outputs": [],
      "source": [
        "resultado = resultado.filter(lambda lines : \"NA\" not in lines[1])"
      ]
    },
    {
      "cell_type": "code",
      "execution_count": 42,
      "metadata": {
        "colab": {
          "base_uri": "https://localhost:8080/"
        },
        "id": "pMpZPPTjMSlV",
        "outputId": "0b9eb04a-dbb9-4c92-d9d2-3a85535593a9"
      },
      "outputs": [
        {
          "data": {
            "text/plain": [
              "[['resultado_id', 'medalla', 'deportista_id', 'juego_id', 'evento_id'],\n",
              " ['4', 'Gold', '4', '2', '4'],\n",
              " ['38', 'Bronze', '15', '7', '19'],\n",
              " ['39', 'Bronze', '15', '7', '20'],\n",
              " ['41', 'Bronze', '16', '50', '14']]"
            ]
          },
          "execution_count": 42,
          "metadata": {},
          "output_type": "execute_result"
        }
      ],
      "source": [
        "resultado.take(5)"
      ]
    },
    {
      "cell_type": "code",
      "execution_count": 43,
      "metadata": {
        "id": "7aeh1oe0MqAL"
      },
      "outputs": [],
      "source": [
        "deportistaPais = deportistaOlimimpicoRDD.map(lambda l : [l[-1],l[: -1]]).join(rdd1.map(lambda x: [ x[0],x[2]]))"
      ]
    },
    {
      "cell_type": "code",
      "execution_count": 44,
      "metadata": {
        "colab": {
          "base_uri": "https://localhost:8080/"
        },
        "id": "298HAhtrNho_",
        "outputId": "284c5bcc-7681-43f5-dcdc-74735b019c5a"
      },
      "outputs": [
        {
          "data": {
            "text/plain": [
              "[('972',\n",
              "  ((['3585', 'An JaeHyeong', '1', '23', '183', '74'], 'KOR'), 'Silver')),\n",
              " ('972', ((['19788', 'Chang YeNa', '2', '26', '172', '61'], 'KOR'), 'Silver')),\n",
              " ('972',\n",
              "  ((['40891', 'Go SeongHyeon', '1', '25', '182', '85'], 'KOR'), 'Silver')),\n",
              " ('972',\n",
              "  ((['44419', 'Ha JeongEun', '2', '21', '173', '66'], 'KOR'), 'Silver')),\n",
              " ('972',\n",
              "  ((['45476', 'Han SangHun', '1', '23', '175', '79'], 'KOR'), 'Silver')),\n",
              " ('972',\n",
              "  ((['51378', 'Hwang HyeYeong', '2', '26', '0', '0'], 'KOR'), 'Silver'))]"
            ]
          },
          "execution_count": 44,
          "metadata": {},
          "output_type": "execute_result"
        }
      ],
      "source": [
        "deportistaPais.join(resultado).take(6)"
      ]
    },
    {
      "cell_type": "markdown",
      "metadata": {
        "id": "qRoI3RZ7O6G5"
      },
      "source": [
        "## Operaciones Matematicas dentro de los RDD"
      ]
    },
    {
      "cell_type": "code",
      "execution_count": 66,
      "metadata": {
        "id": "q6xbeaYIO-TN"
      },
      "outputs": [],
      "source": [
        "valoresMedallas = {\n",
        "  'Gold':7,\n",
        "  'Silver':5,\n",
        "  \"Bronze\":4\n",
        "}"
      ]
    },
    {
      "cell_type": "code",
      "execution_count": 67,
      "metadata": {
        "id": "YMRs-83IP7jZ"
      },
      "outputs": [],
      "source": [
        "paisesMedallas = deportistaPais.join(resultado)"
      ]
    },
    {
      "cell_type": "code",
      "execution_count": 68,
      "metadata": {
        "colab": {
          "base_uri": "https://localhost:8080/"
        },
        "id": "XoMrWK_HQDIG",
        "outputId": "c8f582f7-abbc-4451-d533-f78996838d21"
      },
      "outputs": [
        {
          "data": {
            "text/plain": [
              "[['KOR', 'Silver'], ['KOR', 'Silver'], ['KOR', 'Silver'], ['KOR', 'Silver']]"
            ]
          },
          "execution_count": 68,
          "metadata": {},
          "output_type": "execute_result"
        }
      ],
      "source": [
        "paisesMedallas.map(lambda x: [x[1][0][-1],x[1][1]]).take(4)"
      ]
    },
    {
      "cell_type": "code",
      "execution_count": 69,
      "metadata": {
        "id": "RO75zK3ZQubG"
      },
      "outputs": [],
      "source": [
        "paisesMedallas = paisesMedallas.map(lambda x: [x[1][0][-1], valoresMedallas[x[1][1]]])"
      ]
    },
    {
      "cell_type": "code",
      "execution_count": 70,
      "metadata": {
        "id": "CRuH2J8ISccC"
      },
      "outputs": [],
      "source": [
        "from operator import add"
      ]
    },
    {
      "cell_type": "code",
      "execution_count": 72,
      "metadata": {
        "id": "9vuY4o0RSfhb"
      },
      "outputs": [],
      "source": [
        "conclucion =  paisesMedallas.reduceByKey(add).sortBy(lambda x: x[1], ascending=False)"
      ]
    },
    {
      "cell_type": "code",
      "execution_count": 73,
      "metadata": {
        "colab": {
          "base_uri": "https://localhost:8080/"
        },
        "id": "-ArfIlo2UnrW",
        "outputId": "b8de45fe-5836-4ddd-cd36-a388bc3d0ae1"
      },
      "outputs": [
        {
          "data": {
            "text/plain": [
              "[('CAN', 33142), ('ARG', 12908), ('HUN', 11272), ('MEX', 6056)]"
            ]
          },
          "execution_count": 73,
          "metadata": {},
          "output_type": "execute_result"
        }
      ],
      "source": [
        "conclucion.take(4)"
      ]
    }
  ],
  "metadata": {
    "colab": {
      "provenance": []
    },
    "kernelspec": {
      "display_name": "Python 3",
      "name": "python3"
    },
    "language_info": {
      "name": "python"
    }
  },
  "nbformat": 4,
  "nbformat_minor": 0
}
